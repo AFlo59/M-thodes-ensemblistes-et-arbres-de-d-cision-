{
 "cells": [
  {
   "cell_type": "markdown",
   "metadata": {},
   "source": [
    "\n",
    "### Exercice : Prédiction de survie sur le Titanic\n",
    "\n",
    "Adaboost est généralement utilisé pour les problémes de classification. Dans notre cas, on va prédire la survie avec le dataset Titanic.\n",
    "\n",
    "Reprenez le dataframe utilisé dans l'implementation avec les arbres de décision pour cet exercice.\n"
   ]
  },
  {
   "cell_type": "code",
   "execution_count": 2,
   "metadata": {},
   "outputs": [
    {
     "name": "stdout",
     "output_type": "stream",
     "text": [
      "      pclass  survived     sex        age\n",
      "0        1.0       1.0  female  29.000000\n",
      "1        1.0       1.0    male   0.916700\n",
      "2        1.0       0.0  female   2.000000\n",
      "3        1.0       0.0    male  30.000000\n",
      "4        1.0       0.0  female  25.000000\n",
      "...      ...       ...     ...        ...\n",
      "1305     3.0       0.0  female  29.881135\n",
      "1306     3.0       0.0    male  26.500000\n",
      "1307     3.0       0.0    male  27.000000\n",
      "1308     3.0       0.0    male  29.000000\n",
      "1309     NaN       NaN     NaN  29.881135\n",
      "\n",
      "[1310 rows x 4 columns]\n"
     ]
    }
   ],
   "source": [
    "import pandas as pd\n",
    "from sklearn.ensemble import AdaBoostClassifier\n",
    "from sklearn.model_selection import train_test_split\n",
    "from sklearn.preprocessing import LabelEncoder\n",
    "from sklearn.metrics import accuracy_score, confusion_matrix\n",
    "from sklearn.impute import SimpleImputer\n",
    "\n",
    "# Charger le dataset\n",
    "data = pd.read_csv('./datasets/titanic.csv') \n",
    "data= data.drop(['name', 'sibsp', 'parch', 'ticket', 'fare', 'cabin', 'embarked', 'boat', 'body', 'home.dest'], axis=1)\n",
    "\n",
    "#remplace les valeurs manquantes de age par une moyenne\n",
    "imputer = SimpleImputer(strategy='mean')\n",
    "\n",
    "#impute à colonne 'age'\n",
    "data['age'] = imputer.fit_transform(data[['age']]).ravel()\n",
    "\n",
    "#verifier dataset \n",
    "print(data)"
   ]
  },
  {
   "cell_type": "code",
   "execution_count": 3,
   "metadata": {},
   "outputs": [
    {
     "name": "stdout",
     "output_type": "stream",
     "text": [
      "      pclass  survived  sex        age\n",
      "1309     NaN       NaN  NaN  29.881135\n"
     ]
    }
   ],
   "source": [
    "#check la ligne où il y a Nan\n",
    "\n",
    "ligne_nan = data[data.isna().any(axis=1)]\n",
    "print(ligne_nan)\n",
    "\n",
    "# où est l'index de la ligne avec NaN\n",
    "index_nan = data[data.isna().all(axis=1)].index\n",
    "\n",
    "\n",
    "data = data.dropna()\n",
    "\n"
   ]
  },
  {
   "cell_type": "code",
   "execution_count": 6,
   "metadata": {},
   "outputs": [],
   "source": [
    "\n",
    "\n",
    "X = data.drop(\"survived\", axis=1)\n",
    "y = data['survived']\n",
    "X_train, X_test, y_train, y_test = train_test_split(X, y, test_size=0.2, random_state=42)\n",
    "\n",
    "label_encoder = LabelEncoder()\n",
    "data['sex'] = label_encoder.fit_transform(data['sex'])\n",
    "\n"
   ]
  },
  {
   "cell_type": "code",
   "execution_count": 7,
   "metadata": {},
   "outputs": [
    {
     "name": "stdout",
     "output_type": "stream",
     "text": [
      "pclass: 0.03\n",
      "survived: 0.02\n",
      "sex: 0.95\n",
      "Accuracy: 0.7709923664122137\n"
     ]
    }
   ],
   "source": [
    "model = AdaBoostClassifier(n_estimators=100, learning_rate=1)\n",
    "\n",
    "model.fit(X_train, y_train)\n",
    "\n",
    "y_pred = model.predict(X_test)\n",
    "\n",
    "# importance des features\n",
    "feature_importance = model.feature_importances_\n",
    "\n",
    "# features et leur nom\n",
    "feature_importance_dict = dict(zip(data.columns, feature_importance))\n",
    "\n",
    "# affiche features et nom\n",
    "for feature, importance in feature_importance_dict.items():\n",
    "    print(f\"{feature}: {importance}\")\n",
    "\n",
    "accuracy_titanic = accuracy_score(y_test, y_pred)\n",
    "\n",
    "print('Accuracy:',accuracy_titanic) \n"
   ]
  },
  {
   "cell_type": "code",
   "execution_count": null,
   "metadata": {},
   "outputs": [],
   "source": [
    "#Pour ceux qui ont terminé, \n",
    "\n",
    "data_apple = pd.read_csv('./datasets/apple_quality.csv') \n",
    "\n",
    "#verifier dataset \n",
    "print(data_apple)\n",
    "\n",
    "data_apple.isna().any()"
   ]
  },
  {
   "cell_type": "code",
   "execution_count": 10,
   "metadata": {},
   "outputs": [
    {
     "name": "stdout",
     "output_type": "stream",
     "text": [
      "Régression logistique :\n",
      "Précision du modèle : 0.7748091603053435\n",
      "Matrice de confusion :\n",
      " [[128  16]\n",
      " [ 43  75]]\n",
      "Rapport de classification :\n",
      "               precision    recall  f1-score   support\n",
      "\n",
      "         0.0       0.75      0.89      0.81       144\n",
      "         1.0       0.82      0.64      0.72       118\n",
      "\n",
      "    accuracy                           0.77       262\n",
      "   macro avg       0.79      0.76      0.77       262\n",
      "weighted avg       0.78      0.77      0.77       262\n",
      "\n",
      "\n",
      "AdaBoost :\n",
      "Précision du modèle : 0.7595419847328244\n",
      "Matrice de confusion :\n",
      " [[122  22]\n",
      " [ 41  77]]\n",
      "Rapport de classification :\n",
      "               precision    recall  f1-score   support\n",
      "\n",
      "         0.0       0.75      0.85      0.79       144\n",
      "         1.0       0.78      0.65      0.71       118\n",
      "\n",
      "    accuracy                           0.76       262\n",
      "   macro avg       0.76      0.75      0.75       262\n",
      "weighted avg       0.76      0.76      0.76       262\n",
      "\n"
     ]
    }
   ],
   "source": [
    "from sklearn.metrics import accuracy_score, classification_report, confusion_matrix\n",
    "from sklearn.linear_model import LogisticRegression\n",
    "\n",
    "\n",
    "# Traitement des données\n",
    "label_encoder = LabelEncoder()\n",
    "X = data.drop(\"survived\", axis=1)\n",
    "y = data['survived']\n",
    "\n",
    "\n",
    "# Diviser les données en ensembles d'entraînement et de test\n",
    "X_train, X_test, y_train, y_test = train_test_split(X, y, test_size=0.2, random_state=42)\n",
    "\n",
    "# Régression logistique\n",
    "logistic_regression_model = LogisticRegression()\n",
    "logistic_regression_model.fit(X_train, y_train)\n",
    "logistic_regression_predictions = logistic_regression_model.predict(X_test)\n",
    "\n",
    "# AdaBoost\n",
    "adaboost_model = AdaBoostClassifier(n_estimators=50, random_state=42)\n",
    "adaboost_model.fit(X_train, y_train)\n",
    "adaboost_predictions = adaboost_model.predict(X_test)\n",
    "\n",
    "# Évaluer la performance des modèles\n",
    "accuracy_logistic_regression = accuracy_score(y_test, logistic_regression_predictions)\n",
    "accuracy_adaboost = accuracy_score(y_test, adaboost_predictions)\n",
    "\n",
    "conf_matrix_logistic_regression = confusion_matrix(y_test, logistic_regression_predictions)\n",
    "conf_matrix_adaboost = confusion_matrix(y_test, adaboost_predictions)\n",
    "\n",
    "classification_rep_logistic_regression = classification_report(y_test, logistic_regression_predictions)\n",
    "classification_rep_adaboost = classification_report(y_test, adaboost_predictions)\n",
    "\n",
    "# Afficher les résultats\n",
    "print(\"Régression logistique :\")\n",
    "print(f\"Précision du modèle : {accuracy_logistic_regression}\")\n",
    "print(\"Matrice de confusion :\\n\", conf_matrix_logistic_regression)\n",
    "print(\"Rapport de classification :\\n\", classification_rep_logistic_regression)\n",
    "\n",
    "print(\"\\nAdaBoost :\")\n",
    "print(f\"Précision du modèle : {accuracy_adaboost}\")\n",
    "print(\"Matrice de confusion :\\n\", conf_matrix_adaboost)\n",
    "print(\"Rapport de classification :\\n\", classification_rep_adaboost)\n"
   ]
  }
 ],
 "metadata": {
  "kernelspec": {
   "display_name": "base",
   "language": "python",
   "name": "python3"
  },
  "language_info": {
   "codemirror_mode": {
    "name": "ipython",
    "version": 3
   },
   "file_extension": ".py",
   "mimetype": "text/x-python",
   "name": "python",
   "nbconvert_exporter": "python",
   "pygments_lexer": "ipython3",
   "version": "3.12.0"
  }
 },
 "nbformat": 4,
 "nbformat_minor": 2
}
