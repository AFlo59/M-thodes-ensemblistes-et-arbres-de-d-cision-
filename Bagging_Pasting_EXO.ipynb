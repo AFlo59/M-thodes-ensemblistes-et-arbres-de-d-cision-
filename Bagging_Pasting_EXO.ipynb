{
 "cells": [
  {
   "cell_type": "code",
   "execution_count": 8,
   "metadata": {},
   "outputs": [],
   "source": [
    "import pandas as pd\n",
    "import numpy as np\n",
    "import matplotlib.pyplot as plt\n",
    "from sklearn.ensemble import RandomForestClassifier\n",
    "from sklearn.ensemble import RandomForestRegressor\n",
    "from sklearn.ensemble import BaggingRegressor, BaggingClassifier \n",
    "from sklearn.tree import DecisionTreeRegressor, DecisionTreeClassifier \n",
    "from sklearn.feature_selection import SelectKBest, f_regression\n",
    "from sklearn.metrics import r2_score\n",
    "from sklearn.model_selection import train_test_split\n",
    "from sklearn.metrics import accuracy_score, classification_report\n",
    "from sklearn.metrics import mean_squared_error"
   ]
  },
  {
   "cell_type": "markdown",
   "metadata": {},
   "source": [
    "Exercice sur le Random Forest avec Bagging/Pasting\n",
    "Objectif :\n",
    "\n",
    "    Mettre en place un modèle de Random Forest pour prédire le prix (target de régression) des vins.\n",
    "    Mettre en place un modèle de Random Forest pour classifier les vins en fonction de leur variété.\n",
    "\n",
    "Étapes :\n",
    "\n",
    "    Nettoyage des données :\n",
    "        Vérifiez s'il y a des valeurs manquantes dans le dataset et traitez-les.\n",
    "        Convertissez les variables catégorielles en variables numériques si nécessaire.\n",
    "        Séparez le dataset en features (X) et la target variable (y) pour la régression et la classification.\n",
    "\n",
    "    Random Forest pour la Régression (Prédiction de Prix) :\n",
    "        Utilisez la bibliothèque scikit-learn en Python.\n",
    "        Divisez le dataset en ensembles d'entraînement (training set) et de test (test set).\n",
    "        Entraînez un modèle de Random Forest pour prédire le prix des vins.\n",
    "        Évaluez les performances du modèle en utilisant des métriques appropriées pour la régression (par exemple, MSE, RMSE).\n",
    "\n",
    "    Random Forest pour la Classification (Variété de Vin) :\n",
    "        Convertissez la variable de variété en une variable numérique si nécessaire.\n",
    "        Divisez le dataset en ensembles d'entraînement (training set) et de test (test set).\n",
    "        Entraînez un modèle de Random Forest pour classifier la variété de vin.\n",
    "        Évaluez les performances du modèle en utilisant des métriques appropriées pour la classification (par exemple, précision, rappel, F1-score).\n",
    "\n",
    "    Bagging ou Pasting :\n",
    "        Comparez les performances du Random Forest avec bagging et du Random Forest avec pasting.\n",
    "        Utilisez différentes valeurs pour le nombre d'estimateurs (arbres) et observez comment cela affecte les performances.\n",
    "        Choisissez une métrique d'évaluation appropriée pour comparer les deux approches.\n",
    "\n",
    "    Analyse des Résultats :\n",
    "        Analysez et interprétez les résultats obtenus.\n",
    "        Identifiez les hyperparamètres optimaux pour chaque modèle."
   ]
  },
  {
   "cell_type": "code",
   "execution_count": 9,
   "metadata": {},
   "outputs": [
    {
     "name": "stdout",
     "output_type": "stream",
     "text": [
      "Unnamed: 0               0.000000\n",
      "country                  0.000485\n",
      "description              0.000000\n",
      "designation              0.405001\n",
      "points                   0.000000\n",
      "price                    0.074362\n",
      "province                 0.000485\n",
      "region_1                 0.195421\n",
      "region_2                 1.573123\n",
      "taster_name              0.253010\n",
      "taster_twitter_handle    0.316055\n",
      "title                    0.000000\n",
      "variety                  0.000008\n",
      "winery                   0.000000\n",
      "dtype: float64\n"
     ]
    }
   ],
   "source": [
    "# Chargement du dataset\n",
    "url = \"datasets/wine.csv\" \n",
    "data = pd.read_csv(url)"
   ]
  },
  {
   "cell_type": "code",
   "execution_count": null,
   "metadata": {},
   "outputs": [],
   "source": [
    "# Calcul du ratio entre les valeurs manquantes et le total des valeurs par colonne\n",
    "ratio_missing_values = data.isna().sum() / data.count()\n",
    "\n",
    "# Affichage du résultat\n",
    "print(ratio_missing_values)"
   ]
  },
  {
   "cell_type": "code",
   "execution_count": 10,
   "metadata": {},
   "outputs": [
    {
     "data": {
      "text/html": [
       "<div>\n",
       "<style scoped>\n",
       "    .dataframe tbody tr th:only-of-type {\n",
       "        vertical-align: middle;\n",
       "    }\n",
       "\n",
       "    .dataframe tbody tr th {\n",
       "        vertical-align: top;\n",
       "    }\n",
       "\n",
       "    .dataframe thead th {\n",
       "        text-align: right;\n",
       "    }\n",
       "</style>\n",
       "<table border=\"1\" class=\"dataframe\">\n",
       "  <thead>\n",
       "    <tr style=\"text-align: right;\">\n",
       "      <th></th>\n",
       "      <th>Unnamed: 0</th>\n",
       "      <th>points</th>\n",
       "      <th>price</th>\n",
       "    </tr>\n",
       "  </thead>\n",
       "  <tbody>\n",
       "    <tr>\n",
       "      <th>count</th>\n",
       "      <td>129971.000000</td>\n",
       "      <td>129971.000000</td>\n",
       "      <td>129971.000000</td>\n",
       "    </tr>\n",
       "    <tr>\n",
       "      <th>mean</th>\n",
       "      <td>64985.000000</td>\n",
       "      <td>88.447138</td>\n",
       "      <td>35.363389</td>\n",
       "    </tr>\n",
       "    <tr>\n",
       "      <th>std</th>\n",
       "      <td>37519.540256</td>\n",
       "      <td>3.039730</td>\n",
       "      <td>39.577066</td>\n",
       "    </tr>\n",
       "    <tr>\n",
       "      <th>min</th>\n",
       "      <td>0.000000</td>\n",
       "      <td>80.000000</td>\n",
       "      <td>4.000000</td>\n",
       "    </tr>\n",
       "    <tr>\n",
       "      <th>25%</th>\n",
       "      <td>32492.500000</td>\n",
       "      <td>86.000000</td>\n",
       "      <td>18.000000</td>\n",
       "    </tr>\n",
       "    <tr>\n",
       "      <th>50%</th>\n",
       "      <td>64985.000000</td>\n",
       "      <td>88.000000</td>\n",
       "      <td>28.000000</td>\n",
       "    </tr>\n",
       "    <tr>\n",
       "      <th>75%</th>\n",
       "      <td>97477.500000</td>\n",
       "      <td>91.000000</td>\n",
       "      <td>40.000000</td>\n",
       "    </tr>\n",
       "    <tr>\n",
       "      <th>max</th>\n",
       "      <td>129970.000000</td>\n",
       "      <td>100.000000</td>\n",
       "      <td>3300.000000</td>\n",
       "    </tr>\n",
       "  </tbody>\n",
       "</table>\n",
       "</div>"
      ],
      "text/plain": [
       "          Unnamed: 0         points          price\n",
       "count  129971.000000  129971.000000  129971.000000\n",
       "mean    64985.000000      88.447138      35.363389\n",
       "std     37519.540256       3.039730      39.577066\n",
       "min         0.000000      80.000000       4.000000\n",
       "25%     32492.500000      86.000000      18.000000\n",
       "50%     64985.000000      88.000000      28.000000\n",
       "75%     97477.500000      91.000000      40.000000\n",
       "max    129970.000000     100.000000    3300.000000"
      ]
     },
     "execution_count": 10,
     "metadata": {},
     "output_type": "execute_result"
    }
   ],
   "source": [
    "data['price'].fillna(data['price'].mean(), inplace=True)\n",
    "data.describe()"
   ]
  },
  {
   "cell_type": "code",
   "execution_count": 11,
   "metadata": {},
   "outputs": [
    {
     "name": "stdout",
     "output_type": "stream",
     "text": [
      "Unnamed: 0               0.000000\n",
      "country                  0.000485\n",
      "description              0.000000\n",
      "designation              0.405001\n",
      "points                   0.000000\n",
      "price                    0.000000\n",
      "province                 0.000485\n",
      "region_1                 0.195421\n",
      "region_2                 1.573123\n",
      "taster_name              0.253010\n",
      "taster_twitter_handle    0.316055\n",
      "title                    0.000000\n",
      "variety                  0.000008\n",
      "winery                   0.000000\n",
      "dtype: float64\n"
     ]
    }
   ],
   "source": [
    "ratio_missing_values = data.isna().sum() / data.count()\n",
    "\n",
    "# Affichage du résultat\n",
    "print(ratio_missing_values)"
   ]
  }
 ],
 "metadata": {
  "kernelspec": {
   "display_name": "Python 3",
   "language": "python",
   "name": "python3"
  },
  "language_info": {
   "codemirror_mode": {
    "name": "ipython",
    "version": 3
   },
   "file_extension": ".py",
   "mimetype": "text/x-python",
   "name": "python",
   "nbconvert_exporter": "python",
   "pygments_lexer": "ipython3",
   "version": "3.10.12"
  }
 },
 "nbformat": 4,
 "nbformat_minor": 2
}
