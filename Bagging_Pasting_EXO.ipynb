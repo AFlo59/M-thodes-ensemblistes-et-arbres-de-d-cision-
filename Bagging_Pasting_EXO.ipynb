{
 "cells": [
  {
   "cell_type": "code",
   "execution_count": 11,
   "metadata": {},
   "outputs": [],
   "source": [
    "import pandas as pd\n",
    "import numpy as np\n",
    "import matplotlib.pyplot as plt\n",
    "from sklearn.impute import SimpleImputer\n",
    "from sklearn.compose import ColumnTransformer\n",
    "from sklearn.pipeline import Pipeline\n",
    "from sklearn.preprocessing import OneHotEncoder\n",
    "from sklearn.ensemble import RandomForestClassifier\n",
    "from sklearn.ensemble import RandomForestRegressor\n",
    "from sklearn.ensemble import BaggingRegressor, BaggingClassifier \n",
    "from sklearn.tree import DecisionTreeRegressor, DecisionTreeClassifier \n",
    "from sklearn.feature_selection import SelectKBest, f_regression\n",
    "from sklearn.metrics import r2_score\n",
    "from sklearn.model_selection import train_test_split\n",
    "from sklearn.metrics import mean_squared_error, accuracy_score, classification_report\n",
    "from sklearn.pipeline import make_pipeline\n",
    "from sklearn.compose import make_column_transformer\n",
    "from sklearn.discriminant_analysis import StandardScaler"
   ]
  },
  {
   "cell_type": "code",
   "execution_count": 12,
   "metadata": {},
   "outputs": [
    {
     "name": "stdout",
     "output_type": "stream",
     "text": [
      "   Unnamed: 0   country                                        description  \\\n",
      "0           0     Italy  Aromas include tropical fruit, broom, brimston...   \n",
      "1           1  Portugal  This is ripe and fruity, a wine that is smooth...   \n",
      "2           2        US  Tart and snappy, the flavors of lime flesh and...   \n",
      "3           3        US  Pineapple rind, lemon pith and orange blossom ...   \n",
      "4           4        US  Much like the regular bottling from 2012, this...   \n",
      "\n",
      "                          designation  points  price           province  \\\n",
      "0                        Vulkà Bianco      87    NaN  Sicily & Sardinia   \n",
      "1                            Avidagos      87   15.0              Douro   \n",
      "2                                 NaN      87   14.0             Oregon   \n",
      "3                Reserve Late Harvest      87   13.0           Michigan   \n",
      "4  Vintner's Reserve Wild Child Block      87   65.0             Oregon   \n",
      "\n",
      "              region_1           region_2         taster_name  \\\n",
      "0                 Etna                NaN       Kerin O’Keefe   \n",
      "1                  NaN                NaN          Roger Voss   \n",
      "2    Willamette Valley  Willamette Valley        Paul Gregutt   \n",
      "3  Lake Michigan Shore                NaN  Alexander Peartree   \n",
      "4    Willamette Valley  Willamette Valley        Paul Gregutt   \n",
      "\n",
      "  taster_twitter_handle                                              title  \\\n",
      "0          @kerinokeefe                  Nicosia 2013 Vulkà Bianco  (Etna)   \n",
      "1            @vossroger      Quinta dos Avidagos 2011 Avidagos Red (Douro)   \n",
      "2           @paulgwine       Rainstorm 2013 Pinot Gris (Willamette Valley)   \n",
      "3                   NaN  St. Julian 2013 Reserve Late Harvest Riesling ...   \n",
      "4           @paulgwine   Sweet Cheeks 2012 Vintner's Reserve Wild Child...   \n",
      "\n",
      "          variety               winery  \n",
      "0     White Blend              Nicosia  \n",
      "1  Portuguese Red  Quinta dos Avidagos  \n",
      "2      Pinot Gris            Rainstorm  \n",
      "3        Riesling           St. Julian  \n",
      "4      Pinot Noir         Sweet Cheeks  \n"
     ]
    }
   ],
   "source": [
    "# Charger les données\n",
    "df = pd.read_csv(\"datasets/wine.csv\")\n",
    "\n",
    "# Afficher les premières lignes du DataFrame pour comprendre la structure des données\n",
    "print(df.head())"
   ]
  },
  {
   "cell_type": "markdown",
   "metadata": {},
   "source": [
    "Exercice sur le Random Forest avec Bagging/Pasting\n",
    "Objectif :\n",
    "\n",
    "    Mettre en place un modèle de Random Forest pour prédire le prix (target de régression) des vins.\n",
    "    Mettre en place un modèle de Random Forest pour classifier les vins en fonction de leur variété.\n",
    "\n",
    "Étapes :\n",
    "\n",
    "    Nettoyage des données :\n",
    "        Vérifiez s'il y a des valeurs manquantes dans le dataset et traitez-les.\n",
    "        Convertissez les variables catégorielles en variables numériques si nécessaire.\n",
    "        Séparez le dataset en features (X) et la target variable (y) pour la régression et la classification.\n",
    "\n",
    "    Random Forest pour la Régression (Prédiction de Prix) :\n",
    "        Utilisez la bibliothèque scikit-learn en Python.\n",
    "        Divisez le dataset en ensembles d'entraînement (training set) et de test (test set).\n",
    "        Entraînez un modèle de Random Forest pour prédire le prix des vins.\n",
    "        Évaluez les performances du modèle en utilisant des métriques appropriées pour la régression (par exemple, MSE, RMSE).\n",
    "\n",
    "    Random Forest pour la Classification (Variété de Vin) :\n",
    "        Convertissez la variable de variété en une variable numérique si nécessaire.\n",
    "        Divisez le dataset en ensembles d'entraînement (training set) et de test (test set).\n",
    "        Entraînez un modèle de Random Forest pour classifier la variété de vin.\n",
    "        Évaluez les performances du modèle en utilisant des métriques appropriées pour la classification (par exemple, précision, rappel, F1-score).\n",
    "\n",
    "    Bagging ou Pasting :\n",
    "        Comparez les performances du Random Forest avec bagging et du Random Forest avec pasting.\n",
    "        Utilisez différentes valeurs pour le nombre d'estimateurs (arbres) et observez comment cela affecte les performances.\n",
    "        Choisissez une métrique d'évaluation appropriée pour comparer les deux approches.\n",
    "\n",
    "    Analyse des Résultats :\n",
    "        Analysez et interprétez les résultats obtenus.\n",
    "        Identifiez les hyperparamètres optimaux pour chaque modèle."
   ]
  },
  {
   "cell_type": "code",
   "execution_count": 13,
   "metadata": {},
   "outputs": [],
   "source": [
    "# Remplacer les valeurs manquantes\n",
    "imputer = SimpleImputer(strategy='mean')\n",
    "df['price'] = imputer.fit_transform(df[['price']])\n",
    "\n",
    "# Séparer les caractéristiques et la cible\n",
    "X = df.drop('price', axis=1)\n",
    "y = df['price']\n",
    "\n",
    "# Diviser les données en ensembles d'entraînement et de test\n",
    "X_train, X_test, y_train, y_test = train_test_split(X, y, test_size=0.2, random_state=42)\n"
   ]
  },
  {
   "cell_type": "code",
   "execution_count": 14,
   "metadata": {},
   "outputs": [
    {
     "name": "stdout",
     "output_type": "stream",
     "text": [
      "Unnamed: 0               0.000000\n",
      "country                  0.000485\n",
      "description              0.000000\n",
      "designation              0.405001\n",
      "points                   0.000000\n",
      "price                    0.000000\n",
      "province                 0.000485\n",
      "region_1                 0.195421\n",
      "region_2                 1.573123\n",
      "taster_name              0.253010\n",
      "taster_twitter_handle    0.316055\n",
      "title                    0.000000\n",
      "variety                  0.000008\n",
      "winery                   0.000000\n",
      "dtype: float64\n"
     ]
    }
   ],
   "source": [
    "ratio_missing_values = df.isna().sum() / df.count()\n",
    "\n",
    "# Affichage du résultat\n",
    "print(ratio_missing_values)"
   ]
  },
  {
   "cell_type": "code",
   "execution_count": 15,
   "metadata": {},
   "outputs": [],
   "source": [
    "preprocessor = make_column_transformer(\n",
    "    (numeric_features, StandardScaler()),\n",
    "    (categorical_features, SimpleImputer(strategy='most_frequent'), StandardScaler())\n",
    ")"
   ]
  },
  {
   "cell_type": "code",
   "execution_count": 16,
   "metadata": {},
   "outputs": [
    {
     "ename": "TypeError",
     "evalue": "BaggingRegressor.__init__() got an unexpected keyword argument 'max_depth'",
     "output_type": "error",
     "traceback": [
      "\u001b[0;31m---------------------------------------------------------------------------\u001b[0m",
      "\u001b[0;31mTypeError\u001b[0m                                 Traceback (most recent call last)",
      "Cell \u001b[0;32mIn[16], line 4\u001b[0m\n\u001b[1;32m      1\u001b[0m \u001b[38;5;28;01mfrom\u001b[39;00m \u001b[38;5;21;01msklearn\u001b[39;00m\u001b[38;5;21;01m.\u001b[39;00m\u001b[38;5;21;01mpipeline\u001b[39;00m \u001b[38;5;28;01mimport\u001b[39;00m make_pipeline\n\u001b[0;32m----> 4\u001b[0m bagging_model \u001b[38;5;241m=\u001b[39m make_pipeline(preprocessor, \u001b[43mBaggingRegressor\u001b[49m\u001b[43m(\u001b[49m\u001b[43mn_estimators\u001b[49m\u001b[38;5;241;43m=\u001b[39;49m\u001b[38;5;241;43m100\u001b[39;49m\u001b[43m,\u001b[49m\u001b[43m \u001b[49m\u001b[43mmax_depth\u001b[49m\u001b[38;5;241;43m=\u001b[39;49m\u001b[38;5;241;43m10\u001b[39;49m\u001b[43m,\u001b[49m\u001b[43m \u001b[49m\u001b[43mmax_features\u001b[49m\u001b[38;5;241;43m=\u001b[39;49m\u001b[38;5;241;43m0.8\u001b[39;49m\u001b[43m)\u001b[49m)\n\u001b[1;32m      5\u001b[0m bagging_model\u001b[38;5;241m.\u001b[39mfit(X_train, y_train)\n",
      "\u001b[0;31mTypeError\u001b[0m: BaggingRegressor.__init__() got an unexpected keyword argument 'max_depth'"
     ]
    }
   ],
   "source": [
    "# Modèle de base pour Bagging\n",
    "base_model = DecisionTreeRegressor(max_depth=10)\n",
    "\n",
    "# Modèle Bagging avec le modèle de base\n",
    "bagging_model = make_pipeline(preprocessor, BaggingRegressor(base_model, n_estimators=100, max_features=0.8))\n",
    "\n",
    "# Entraînement du modèle\n",
    "bagging_model.fit(X_train, y_train)"
   ]
  },
  {
   "cell_type": "code",
   "execution_count": null,
   "metadata": {},
   "outputs": [],
   "source": [
    "# Évaluation du modèle\n",
    "evaluate_model(bagging_model, X_test, y_test)"
   ]
  }
 ],
 "metadata": {
  "kernelspec": {
   "display_name": "Python 3",
   "language": "python",
   "name": "python3"
  },
  "language_info": {
   "codemirror_mode": {
    "name": "ipython",
    "version": 3
   },
   "file_extension": ".py",
   "mimetype": "text/x-python",
   "name": "python",
   "nbconvert_exporter": "python",
   "pygments_lexer": "ipython3",
   "version": "3.10.12"
  }
 },
 "nbformat": 4,
 "nbformat_minor": 2
}
