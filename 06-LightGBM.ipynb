{
 "cells": [
  {
   "cell_type": "markdown",
   "metadata": {},
   "source": [
    "___\n",
    "___\n",
    "___\n",
    "# Light GBM\n",
    "___\n",
    "___\n",
    "___\n",
    "LightGBM (Light Gradient Boosting Machine) est une bibliothèque open-source de boosting développée par *Microsoft*. **Elle est conçue pour être rapide et performante**, en particulier sur de grands ensembles de données et sur des tâches d'apprentissage automatique complexes. LightGBM est particulièrement populaire dans les compétitions de science des données en raison de sa rapidité et de sa précision.\n",
    "\n",
    "\n",
    "## 1. Caractéristiques principales de LightGBM :\n",
    "* a. **Boosting :**\n",
    "LightGBM appartient à la famille des méthodes de boosting. Il construit une séquence de modèles faibles (généralement des arbres de décision peu profonds) et les combine pour former un modèle fort.\n",
    "\n",
    "* b. **Rapidité :**\n",
    "LightGBM est optimisé pour être rapide et efficace. Il utilise des techniques telles que le binning, le parallélisme et le pruning pour accélérer l'entraînement du modèle.\n",
    "\n",
    "* c. **Histogramme basé sur le partitionnement :**\n",
    "LightGBM utilise un histogramme basé sur le partitionnement pour construire les arbres de décision. Cela permet de regrouper les valeurs des caractéristiques en intervalles (bins) pour accélérer le processus d'apprentissage.\n",
    "\n",
    "* d. **Light :**\n",
    "Le terme \"Light\" dans LightGBM fait référence à la légèreté du modèle et à la rapidité de l'algorithme. Il est adapté à un large éventail d'applications, y compris celles où les données sont volumineuses.\n",
    "\n",
    "\n",
    "## 2. Principes de fonctionnement :\n",
    "* a. **Gradient Boosting :**\n",
    "Comme d'autres algorithmes de boosting, LightGBM construit des arbres de manière séquentielle en corrigeant les erreurs du modèle précédent.\n",
    "\n",
    "* b. **Leaf-wise Growth :**\n",
    "LightGBM adopte une stratégie de croissance feuille par feuille (leaf-wise growth) pour construire les arbres. Au lieu de faire grandir l'arbre de manière niveaux par niveaux, il choisit la feuille qui donne la plus grande réduction de l'objectif lors de chaque division.\n",
    "\n",
    "* c. **Optimisation par les histogrammes :**\n",
    "LightGBM utilise des histogrammes pour trouver la meilleure façon de diviser les données lors de la construction de chaque arbre. Cela réduit le coût computationnel par rapport à des approches comme le \"full-sorting\".\n",
    "\n",
    "\n",
    "## 3. Utilisation de LightGBM :\n",
    "* a. **Installation :**\n",
    "Vous pouvez installer LightGBM en utilisant la commande pip : pip install lightgbm\n",
    "\n",
    "* b. **Intégration avec scikit-learn :**\n",
    "LightGBM s'intègre bien avec scikit-learn, ce qui facilite son utilisation dans des pipelines d'apprentissage automatique.\n",
    "\n",
    "* c. **Paramètres importants :**\n",
    "LightGBM offre de nombreux paramètres pour ajuster le modèle. Certains paramètres clés incluent learning_rate, num_leaves, max_depth, min_child_samples, etc.\n",
    "\n",
    "\n",
    "## 4. Conclusion :\n",
    "\n",
    "LightGBM est une bibliothèque puissante et performante pour les tâches de boosting. Sa rapidité en fait un choix populaire, en particulier dans les compétitions de science des données. En l'intégrant avec scikit-learn et en ajustant ses paramètres, vous pouvez construire des modèles performants pour diverses applications d'apprentissage automatique."
   ]
  },
  {
   "cell_type": "markdown",
   "metadata": {},
   "source": [
    "## sources\n",
    "* https://www.youtube.com/watch?v=n_ZMQj09S6w\n",
    "* https://github.com/microsoft/LightGBM\n",
    "* https://lightgbm.readthedocs.io/en/stable/\n",
    "\n",
    "*Code récupéré ici :*\n",
    "https://github.com/bnsreenu/python_for_microscopists/blob/master/196_lightGBM_feature_selection_breast_cancer.py\n",
    "\n",
    "Les commentaires en anglais ne sont pas traduits\n",
    "\n",
    "* **@author: Sreenivas Bhattiprolu**\n",
    "* LGBM and how it compares to XGBoost\n",
    "* https://lightgbm.readthedocs.io/en/latest/\n",
    "* pip install lightgbm\n",
    "* Dataset: https://archive.ics.uci.edu/ml/datasets/Breast+Cancer+Wisconsin+(Diagnostic)\n",
    "* https://youtu.be/n_ZMQj09S6w\n"
   ]
  },
  {
   "cell_type": "markdown",
   "metadata": {},
   "source": [
    "___\n",
    "___\n",
    "___\n",
    "## Exemple : utilisation du dataset Titanic et comparaison de LightGBM avec XGBoost\n",
    "___\n",
    "___\n",
    "___\n",
    "### Imports"
   ]
  },
  {
   "cell_type": "code",
   "execution_count": 344,
   "metadata": {},
   "outputs": [
    {
     "name": "stdout",
     "output_type": "stream",
     "text": [
      "Taille du dataset : (1310, 14)\n"
     ]
    }
   ],
   "source": [
    "import numpy as np\n",
    "import matplotlib.pyplot as plt\n",
    "import seaborn as sns\n",
    "import pandas as pd\n",
    "from datetime import datetime # juste pour chronométrer\n",
    "from sklearn import metrics\n",
    "from sklearn.metrics import roc_auc_score, confusion_matrix # roc_auc_score pour quantifier la matrice de confusion\n",
    "# En résumé, le score AUC-ROC évalue la capacité d'un modèle à bien classer les exemples positifs par rapport\n",
    "# aux exemples négatifs à différents seuils de probabilité, et il fournit un nombre unique pour mesurer cette performance,\n",
    "# où un score plus élevé indique une meilleure performance.\n",
    "from sklearn.preprocessing import StandardScaler, LabelEncoder\n",
    "from sklearn.model_selection import train_test_split\n",
    "import lightgbm as lgb # librairie LightGBM à installer au préalable\n",
    "import xgboost as xgb # pour comparer à XGBoost\n",
    "\n",
    "# Importing the dataset\n",
    "df = pd.read_csv(\"datasets/titanic.csv\")\n",
    "\n",
    "print(\"Taille du dataset :\", df.shape)"
   ]
  },
  {
   "cell_type": "code",
   "execution_count": 345,
   "metadata": {},
   "outputs": [
    {
     "data": {
      "text/plain": [
       "(1309, 14)"
      ]
     },
     "execution_count": 345,
     "metadata": {},
     "output_type": "execute_result"
    }
   ],
   "source": [
    "# df['survived'] = df['survived'].fillna(df['survived'].mean())\n",
    "df = df.dropna(subset=['survived'])\n",
    "df.shape"
   ]
  },
  {
   "cell_type": "markdown",
   "metadata": {},
   "source": [
    "### création du dataframe *Y* + nettoyage"
   ]
  },
  {
   "cell_type": "code",
   "execution_count": 346,
   "metadata": {},
   "outputs": [
    {
     "name": "stdout",
     "output_type": "stream",
     "text": [
      "[1. 1. 1. 1. 1. 0. 1. 1. 1. 1.]\n"
     ]
    }
   ],
   "source": [
    "#Rename Dataset to Label to make it easy to understand\n",
    "y = df[['survived']]\n",
    "y = y.rename(columns={'survived':'Label'})\n",
    "\n",
    "\n",
    "####### Replace categorical values with numbers########\n",
    "y['Label'].value_counts()\n",
    "\n",
    "#Define the dependent variable that needs to be predicted (labels)\n",
    "y = y[\"Label\"].values\n",
    "\n",
    "# Encoding categorical data\n",
    "labelencoder = LabelEncoder()\n",
    "Y = labelencoder.fit_transform(y)\n",
    "\n",
    "# affichage de la différence entre y et Y\n",
    "print(y[20:30])"
   ]
  },
  {
   "cell_type": "markdown",
   "metadata": {},
   "source": [
    "### création du dataframe *X* + nettoyage"
   ]
  },
  {
   "cell_type": "code",
   "execution_count": 347,
   "metadata": {},
   "outputs": [],
   "source": [
    "#Define x and normalize values\n",
    "\n",
    "#Define the independent variables. Let's also drop Gender, so we can normalize other data\n",
    "X = df.drop(labels = [\"survived\"], axis=1)\n",
    "\n",
    "labelencoder = LabelEncoder()\n",
    "for column in X.columns:\n",
    "    X[column] = labelencoder.fit_transform(X[column])\n",
    "\n",
    "scaler = StandardScaler()\n",
    "scaler.fit(X)\n",
    "X = scaler.transform(X)"
   ]
  },
  {
   "cell_type": "markdown",
   "metadata": {},
   "source": [
    "### split des données\n",
    "Création des *X_train, X_test, y_train, y_test* à partir de *X* et *Y*"
   ]
  },
  {
   "cell_type": "code",
   "execution_count": 348,
   "metadata": {},
   "outputs": [],
   "source": [
    "##Split data into train and test to verify accuracy after fitting the model. \n",
    "X_train, X_test, y_train, y_test = train_test_split(X, y, test_size=0.2, random_state=42)"
   ]
  },
  {
   "cell_type": "markdown",
   "metadata": {},
   "source": [
    "___\n",
    "## Light GBM\n",
    "___"
   ]
  },
  {
   "cell_type": "code",
   "execution_count": 349,
   "metadata": {},
   "outputs": [
    {
     "name": "stdout",
     "output_type": "stream",
     "text": [
      "[LightGBM] [Info] Number of positive: 382, number of negative: 665\n",
      "[LightGBM] [Info] Auto-choosing row-wise multi-threading, the overhead of testing was 0.121382 seconds.\n",
      "You can set `force_row_wise=true` to remove the overhead.\n",
      "And if memory is not enough, you can set `force_col_wise=true`.\n",
      "[LightGBM] [Info] Total Bins 1022\n",
      "[LightGBM] [Info] Number of data points in the train set: 1047, number of used features: 13\n",
      "[LightGBM] [Info] [binary:BoostFromScore]: pavg=0.364852 -> initscore=-0.554366\n",
      "[LightGBM] [Info] Start training from score -0.554366\n",
      "[LightGBM] [Warning] No further splits with positive gain, best gain: -inf\n",
      "[LightGBM] [Warning] No further splits with positive gain, best gain: -inf\n",
      "[LightGBM] [Warning] No further splits with positive gain, best gain: -inf\n",
      "[LightGBM] [Warning] No further splits with positive gain, best gain: -inf\n",
      "[LightGBM] [Warning] No further splits with positive gain, best gain: -inf\n",
      "[LightGBM] [Warning] No further splits with positive gain, best gain: -inf\n",
      "[LightGBM] [Warning] No further splits with positive gain, best gain: -inf\n",
      "[LightGBM] [Warning] No further splits with positive gain, best gain: -inf\n",
      "[LightGBM] [Warning] No further splits with positive gain, best gain: -inf\n",
      "[LightGBM] [Warning] No further splits with positive gain, best gain: -inf\n",
      "[LightGBM] [Warning] No further splits with positive gain, best gain: -inf\n",
      "[LightGBM] [Warning] No further splits with positive gain, best gain: -inf\n",
      "[LightGBM] [Warning] No further splits with positive gain, best gain: -inf\n",
      "[LightGBM] [Warning] No further splits with positive gain, best gain: -inf\n",
      "[LightGBM] [Warning] No further splits with positive gain, best gain: -inf\n",
      "[LightGBM] [Warning] No further splits with positive gain, best gain: -inf\n",
      "[LightGBM] [Warning] No further splits with positive gain, best gain: -inf\n",
      "[LightGBM] [Warning] No further splits with positive gain, best gain: -inf\n",
      "[LightGBM] [Warning] No further splits with positive gain, best gain: -inf\n",
      "[LightGBM] [Warning] No further splits with positive gain, best gain: -inf\n",
      "[LightGBM] [Warning] No further splits with positive gain, best gain: -inf\n",
      "[LightGBM] [Warning] No further splits with positive gain, best gain: -inf\n",
      "[LightGBM] [Warning] No further splits with positive gain, best gain: -inf\n",
      "[LightGBM] [Warning] No further splits with positive gain, best gain: -inf\n",
      "[LightGBM] [Warning] No further splits with positive gain, best gain: -inf\n",
      "[LightGBM] [Warning] No further splits with positive gain, best gain: -inf\n",
      "[LightGBM] [Warning] No further splits with positive gain, best gain: -inf\n",
      "[LightGBM] [Warning] No further splits with positive gain, best gain: -inf\n",
      "[LightGBM] [Warning] No further splits with positive gain, best gain: -inf\n",
      "[LightGBM] [Warning] No further splits with positive gain, best gain: -inf\n",
      "[LightGBM] [Warning] No further splits with positive gain, best gain: -inf\n",
      "[LightGBM] [Warning] No further splits with positive gain, best gain: -inf\n",
      "[LightGBM] [Warning] No further splits with positive gain, best gain: -inf\n",
      "[LightGBM] [Warning] No further splits with positive gain, best gain: -inf\n",
      "[LightGBM] [Warning] No further splits with positive gain, best gain: -inf\n",
      "[LightGBM] [Warning] No further splits with positive gain, best gain: -inf\n",
      "[LightGBM] [Warning] No further splits with positive gain, best gain: -inf\n",
      "[LightGBM] [Warning] No further splits with positive gain, best gain: -inf\n",
      "[LightGBM] [Warning] No further splits with positive gain, best gain: -inf\n",
      "[LightGBM] [Warning] No further splits with positive gain, best gain: -inf\n",
      "[LightGBM] [Warning] No further splits with positive gain, best gain: -inf\n",
      "[LightGBM] [Warning] No further splits with positive gain, best gain: -inf\n",
      "[LightGBM] [Warning] No further splits with positive gain, best gain: -inf\n",
      "[LightGBM] [Warning] No further splits with positive gain, best gain: -inf\n",
      "[LightGBM] [Warning] No further splits with positive gain, best gain: -inf\n",
      "[LightGBM] [Warning] No further splits with positive gain, best gain: -inf\n",
      "[LightGBM] [Warning] No further splits with positive gain, best gain: -inf\n",
      "[LightGBM] [Warning] No further splits with positive gain, best gain: -inf\n",
      "[LightGBM] [Warning] No further splits with positive gain, best gain: -inf\n",
      "[LightGBM] [Warning] No further splits with positive gain, best gain: -inf\n"
     ]
    }
   ],
   "source": [
    "###################################\n",
    "# LightGBM\n",
    "\n",
    "d_train = lgb.Dataset(X_train, label=y_train)\n",
    "\n",
    "# https://lightgbm.readthedocs.io/en/latest/Parameters.html\n",
    "lgbm_params = {'learning_rate':0.05, 'boosting_type':'gbdt',    #gbdt or Try dart for better accuracy (it means the best for boosting)\n",
    "              'objective':'binary',\n",
    "              'metric':['auc', 'binary_logloss'],\n",
    "              'num_leaves':100,\n",
    "              'max_depth':10}\n",
    "\n",
    "start=datetime.now()\n",
    "clf = lgb.train(lgbm_params, d_train, 50) #50 iterations. Increase iterations for small learning rates\n",
    "stop=datetime.now()\n",
    "execution_time_lgbm = stop-start\n",
    "\n",
    "#Prediction on test data\n",
    "y_pred_lgbm=clf.predict(X_test)\n",
    "\n",
    "#convert into binary values 0/1 for classification\n",
    "for i in range(0, X_test.shape[0]):\n",
    "    if y_pred_lgbm[i]>=.5:       # setting threshold to .5\n",
    "       y_pred_lgbm[i]=1\n",
    "    else:  \n",
    "       y_pred_lgbm[i]=0\n",
    "\n",
    "\n",
    "###################################\n",
    "# XGBoost\n",
    "dtrain=xgb.DMatrix(X_train, label=y_train)\n",
    "\n",
    "\n",
    "#setting parameters for xgboost\n",
    "parameters={'max_depth':10, \n",
    "            'objective':'binary:logistic',\n",
    "            'eval_metric':'auc',\n",
    "            'learning_rate':.05}\n",
    "\n",
    "\n",
    "start = datetime.now() \n",
    "xg=xgb.train(parameters, dtrain, 50)\n",
    "stop = datetime.now()\n",
    "\n",
    "#Execution time of the model \n",
    "execution_time_xgb = stop-start\n",
    "\n",
    "#now predicting the model on the test set \n",
    "dtest=xgb.DMatrix(X_test)\n",
    "y_pred_xgb = xg.predict(dtest) \n",
    "\n",
    "#Converting probabilities into 1 or 0  \n",
    "for i in range(0, X_test.shape[0]): \n",
    "    if y_pred_xgb[i]>=.5:       # setting threshold to .5 \n",
    "       y_pred_xgb[i]=1 \n",
    "    else: \n",
    "       y_pred_xgb[i]=0"
   ]
  },
  {
   "cell_type": "markdown",
   "metadata": {},
   "source": [
    "___\n",
    "### Confusion matrix\n",
    "___"
   ]
  },
  {
   "cell_type": "code",
   "execution_count": 350,
   "metadata": {},
   "outputs": [
    {
     "data": {
      "image/png": "[encoded data removed]",
      "text/plain": [
       "<Figure size 640x480 with 2 Axes>"
      ]
     },
     "metadata": {},
     "output_type": "display_data"
    }
   ],
   "source": [
    "cm_lgbm = confusion_matrix(y_test, y_pred_lgbm)\n",
    "sns.heatmap(cm_lgbm, annot=True)\n",
    "plt.title(\"LightGBM\")\n",
    "plt.xlabel('Valeurs Prédites')\n",
    "plt.ylabel('Valeurs Réelles')\n",
    "pass"
   ]
  },
  {
   "cell_type": "code",
   "execution_count": 351,
   "metadata": {},
   "outputs": [
    {
     "data": {
      "image/png": "[encoded data removed]",
      "text/plain": [
       "<Figure size 640x480 with 2 Axes>"
      ]
     },
     "metadata": {},
     "output_type": "display_data"
    }
   ],
   "source": [
    "cm_xgb = confusion_matrix(y_test, y_pred_xgb)\n",
    "sns.heatmap(cm_xgb, annot=True)\n",
    "plt.title(\"XGboost\")\n",
    "plt.xlabel('Valeurs Prédites')\n",
    "plt.ylabel('Valeurs Réelles')\n",
    "pass"
   ]
  },
  {
   "cell_type": "code",
   "execution_count": 352,
   "metadata": {},
   "outputs": [
    {
     "name": "stdout",
     "output_type": "stream",
     "text": [
      "################################################\n",
      "# LGBM execution time is:  0:00:00.449368\n",
      "# XGBoost execution time is:  0:00:00.134448\n",
      "# Gain:  -0.31492\n",
      "################################################\n",
      "# Accuracy with LGBM =  97.33 %\n",
      "# Accuracy with XGBoost=  96.56\n",
      "# gain : 0.76\n",
      "################################################\n",
      "# AUC score with LGBM is:  97.68\n",
      "# AUC score with XGBoost is:  96.9\n",
      "# gain : 0.78\n",
      "################################################\n"
     ]
    }
   ],
   "source": [
    "################\n",
    "#SUMMARY\n",
    "print(\"################################################\")\n",
    "print(\"# LGBM execution time is: \", execution_time_lgbm)\n",
    "print(\"# XGBoost execution time is: \", execution_time_xgb)\n",
    "difference_in_seconds = (execution_time_xgb - execution_time_lgbm).total_seconds()\n",
    "print(\"# Gain: \", difference_in_seconds)\n",
    "print(\"################################################\")\n",
    "print (\"# Accuracy with LGBM = \", round(metrics.accuracy_score(y_pred_lgbm,y_test) * 100, 2), '%')\n",
    "print (\"# Accuracy with XGBoost= \", round(metrics.accuracy_score(y_pred_xgb, y_test) * 100, 2))\n",
    "print(\"# gain :\", round(metrics.accuracy_score(y_pred_lgbm,y_test) * 100 - metrics.accuracy_score(y_pred_xgb, y_test) * 100, 2))\n",
    "print(\"################################################\")\n",
    "print(\"# AUC score with LGBM is: \", round(roc_auc_score(y_pred_lgbm,y_test) * 100, 2))\n",
    "print(\"# AUC score with XGBoost is: \", round(roc_auc_score(y_pred_xgb, y_test) * 100, 2))\n",
    "print(\"# gain :\", round(roc_auc_score(y_pred_lgbm,y_test) * 100 - roc_auc_score(y_pred_xgb, y_test) * 100, 2))\n",
    "print(\"################################################\")"
   ]
  },
  {
   "cell_type": "markdown",
   "metadata": {},
   "source": [
    "___\n",
    "___\n",
    "___\n",
    "## Exercice avec le dataset \"wine\"\n",
    "___\n",
    "___\n",
    "___\n",
    "A partir du dataset \"Wine\" (wine.csv), faire des prédictions sur la note à donner d'un vin (feature \"points\").\n",
    "\n",
    "Le code est pré-implanté de la même manière que l'exemple ci-dessus.\n",
    "\n",
    "Tâches à faire :\n",
    "* explorer les données\n",
    "* la cible étant la note donnée à un vin, elle sera considérée comme catégorielle\n",
    "* afficher les résultats suivants : La matrice de confusion, Accuracy, AUC score\n",
    "* tester des hyperparamètres, sources : https://lightgbm.readthedocs.io/en/latest/Parameters.html | https://towardsdatascience.com/beginners-guide-to-the-must-know-lightgbm-hyperparameters-a0005a812702"
   ]
  },
  {
   "cell_type": "code",
   "execution_count": 353,
   "metadata": {},
   "outputs": [
    {
     "name": "stdout",
     "output_type": "stream",
     "text": [
      "Taille du dataset : (129971, 14)\n"
     ]
    }
   ],
   "source": [
    "# Importing the dataset\n",
    "df = pd.read_csv(\"datasets/wine.csv\")\n",
    "\n",
    "print(\"Taille du dataset :\", df.shape)"
   ]
  },
  {
   "cell_type": "code",
   "execution_count": 369,
   "metadata": {},
   "outputs": [
    {
     "data": {
      "text/html": [
       "<div>\n",
       "<style scoped>\n",
       "    .dataframe tbody tr th:only-of-type {\n",
       "        vertical-align: middle;\n",
       "    }\n",
       "\n",
       "    .dataframe tbody tr th {\n",
       "        vertical-align: top;\n",
       "    }\n",
       "\n",
       "    .dataframe thead th {\n",
       "        text-align: right;\n",
       "    }\n",
       "</style>\n",
       "<table border=\"1\" class=\"dataframe\">\n",
       "  <thead>\n",
       "    <tr style=\"text-align: right;\">\n",
       "      <th></th>\n",
       "      <th>Unnamed: 0</th>\n",
       "      <th>country</th>\n",
       "      <th>description</th>\n",
       "      <th>designation</th>\n",
       "      <th>points</th>\n",
       "      <th>price</th>\n",
       "      <th>province</th>\n",
       "      <th>region_1</th>\n",
       "      <th>region_2</th>\n",
       "      <th>taster_name</th>\n",
       "      <th>taster_twitter_handle</th>\n",
       "      <th>title</th>\n",
       "      <th>variety</th>\n",
       "      <th>winery</th>\n",
       "    </tr>\n",
       "  </thead>\n",
       "  <tbody>\n",
       "    <tr>\n",
       "      <th>0</th>\n",
       "      <td>0</td>\n",
       "      <td>Italy</td>\n",
       "      <td>Aromas include tropical fruit, broom, brimston...</td>\n",
       "      <td>Vulkà Bianco</td>\n",
       "      <td>87</td>\n",
       "      <td>NaN</td>\n",
       "      <td>Sicily &amp; Sardinia</td>\n",
       "      <td>Etna</td>\n",
       "      <td>NaN</td>\n",
       "      <td>Kerin O’Keefe</td>\n",
       "      <td>@kerinokeefe</td>\n",
       "      <td>Nicosia 2013 Vulkà Bianco  (Etna)</td>\n",
       "      <td>White Blend</td>\n",
       "      <td>Nicosia</td>\n",
       "    </tr>\n",
       "    <tr>\n",
       "      <th>1</th>\n",
       "      <td>1</td>\n",
       "      <td>Portugal</td>\n",
       "      <td>This is ripe and fruity, a wine that is smooth...</td>\n",
       "      <td>Avidagos</td>\n",
       "      <td>87</td>\n",
       "      <td>15.0</td>\n",
       "      <td>Douro</td>\n",
       "      <td>NaN</td>\n",
       "      <td>NaN</td>\n",
       "      <td>Roger Voss</td>\n",
       "      <td>@vossroger</td>\n",
       "      <td>Quinta dos Avidagos 2011 Avidagos Red (Douro)</td>\n",
       "      <td>Portuguese Red</td>\n",
       "      <td>Quinta dos Avidagos</td>\n",
       "    </tr>\n",
       "  </tbody>\n",
       "</table>\n",
       "</div>"
      ],
      "text/plain": [
       "   Unnamed: 0   country                                        description  \\\n",
       "0           0     Italy  Aromas include tropical fruit, broom, brimston...   \n",
       "1           1  Portugal  This is ripe and fruity, a wine that is smooth...   \n",
       "\n",
       "    designation  points  price           province region_1 region_2  \\\n",
       "0  Vulkà Bianco      87    NaN  Sicily & Sardinia     Etna      NaN   \n",
       "1      Avidagos      87   15.0              Douro      NaN      NaN   \n",
       "\n",
       "     taster_name taster_twitter_handle  \\\n",
       "0  Kerin O’Keefe          @kerinokeefe   \n",
       "1     Roger Voss            @vossroger   \n",
       "\n",
       "                                           title         variety  \\\n",
       "0              Nicosia 2013 Vulkà Bianco  (Etna)     White Blend   \n",
       "1  Quinta dos Avidagos 2011 Avidagos Red (Douro)  Portuguese Red   \n",
       "\n",
       "                winery  \n",
       "0              Nicosia  \n",
       "1  Quinta dos Avidagos  "
      ]
     },
     "metadata": {},
     "output_type": "display_data"
    },
    {
     "name": "stdout",
     "output_type": "stream",
     "text": [
      "##################################################\n",
      "valeurs uniques : [ 87  86  85  88  92  91  90  89  83  82  81  80 100  98  97  96  95  93\n",
      "  94  84  99]\n"
     ]
    }
   ],
   "source": [
    "# exploration des données\n",
    "display(df.head(2))\n",
    "print(\"##################################################\")\n",
    "print(\"valeurs uniques :\", df['points'].unique())"
   ]
  },
  {
   "cell_type": "code",
   "execution_count": 361,
   "metadata": {},
   "outputs": [
    {
     "name": "stdout",
     "output_type": "stream",
     "text": [
      "Taille des jeux de données : (103976, 12) (103976,) (25995, 12) (25995,)\n"
     ]
    }
   ],
   "source": [
    "# split du dataset\n",
    "X = df.drop(labels = [\"Unnamed: 0\", \"points\"], axis=1)\n",
    "y = df['points']\n",
    "X_train, X_test, y_train, y_test = train_test_split(X, y, test_size=0.2, random_state=42)\n",
    "print(\"Taille des jeux de données :\", X_train.shape, y_train.shape, X_test.shape, y_test.shape)"
   ]
  }
 ],
 "metadata": {
  "kernelspec": {
   "display_name": "venv",
   "language": "python",
   "name": "python3"
  },
  "language_info": {
   "codemirror_mode": {
    "name": "ipython",
    "version": 3
   },
   "file_extension": ".py",
   "mimetype": "text/x-python",
   "name": "python",
   "nbconvert_exporter": "python",
   "pygments_lexer": "ipython3",
   "version": "3.10.12"
  }
 },
 "nbformat": 4,
 "nbformat_minor": 2
}
