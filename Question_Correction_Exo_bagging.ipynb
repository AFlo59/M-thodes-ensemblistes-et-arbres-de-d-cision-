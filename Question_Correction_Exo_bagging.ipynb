{
 "cells": [
  {
   "cell_type": "code",
   "execution_count": 194,
   "metadata": {},
   "outputs": [],
   "source": [
    "import pandas as pd\n",
    "import numpy as np\n",
    "import matplotlib.pyplot as plt\n",
    "from sklearn.impute import SimpleImputer\n",
    "from sklearn.compose import ColumnTransformer\n",
    "from sklearn.pipeline import Pipeline\n",
    "from sklearn.preprocessing import StandardScaler, OneHotEncoder, LabelEncoder\n",
    "from sklearn.ensemble import BaggingRegressor, BaggingClassifier, RandomForestRegressor, RandomForestClassifier\n",
    "from sklearn.tree import DecisionTreeRegressor, DecisionTreeClassifier\n",
    "from sklearn.feature_selection import SelectKBest, f_regression\n",
    "from sklearn.model_selection import train_test_split\n",
    "from sklearn.pipeline import make_pipeline\n",
    "from sklearn.compose import make_column_transformer\n",
    "from sklearn.discriminant_analysis import StandardScaler\n",
    "from sklearn.compose import ColumnTransformer\n",
    "from sklearn.metrics import accuracy_score, precision_score, roc_auc_score, f1_score, r2_score, mean_squared_error, classification_report"
   ]
  },
  {
   "cell_type": "markdown",
   "metadata": {},
   "source": [
    "### Objectif : Mettre en place un modèle de Random Forest pour prédire la survie des passagers du Titanic.\n",
    "\n",
    "Étapes :\n",
    "\n",
    "    Nettoyage des données :\n",
    "        Vérifiez s'il y a des valeurs manquantes dans le dataset et traitez-les en utilisant des stratégies appropriées.\n",
    "        Convertissez les variables catégorielles en variables numériques si nécessaire.\n",
    "\n",
    "    Random Forest pour la Classification (Prédiction de Survie) :\n",
    "        Utilisez la bibliothèque scikit-learn en Python.\n",
    "        Divisez le dataset en ensembles d'entraînement (training set) et de test (test set).\n",
    "        Entraînez un modèle de Random Forest pour prédire la survie des passagers.\n",
    "        Évaluez les performances du modèle en utilisant des métriques appropriées pour la classification (par exemple, l'accuracy).\n",
    "\n",
    "    Bagging ou Pasting :\n",
    "        Comparez les performances du Random Forest avec bagging et du Random Forest avec pasting.\n",
    "        Utilisez différentes valeurs pour le nombre d'estimateurs (arbres) et observez comment cela affecte les performances.\n",
    "        Choisissez une métrique d'évaluation appropriée pour comparer les deux approches.\n",
    "\n",
    "    Analyse des Résultats :\n",
    "        Analysez et interprétez les résultats obtenus.\n",
    "        Identifiez les hyperparamètres optimaux pour chaque modèle.\n",
    "        Comparez les métriques pour évaluer l'impact du bagging/pasting sur les performances du Random Forest."
   ]
  },
  {
   "cell_type": "code",
   "execution_count": 195,
   "metadata": {},
   "outputs": [],
   "source": [
    "# Fonction d'évaluation étendue\n",
    "def evaluate_model(model, X_test, y_test):\n",
    "    y_pred = model.predict(X_test)\n",
    "\n",
    "    if hasattr(model, 'predict_proba'):  # Vérifie si le modèle a une méthode 'predict_proba'\n",
    "        y_proba = model.predict_proba(X_test)[:, 1]  # Probabilité de la classe positive\n",
    "        roc_auc = roc_auc_score(y_test, y_proba)\n",
    "    else:\n",
    "        roc_auc = None\n",
    "\n",
    "    if len(set(y_test)) == 2:  # Classification binaire\n",
    "        accuracy = accuracy_score(y_test, y_pred)\n",
    "        precision = precision_score(y_test, y_pred)\n",
    "        f1 = f1_score(y_test, y_pred)\n",
    "        gini = 2 * roc_auc - 1 if roc_auc is not None else None\n",
    "\n",
    "        print(f\"Accuracy: {accuracy}\")\n",
    "        print(f\"Precision: {precision}\")\n",
    "        print(f\"F1 Score: {f1}\")\n",
    "        print(f\"Gini: {gini}\")\n",
    "    else:  # Régression\n",
    "        mse = mean_squared_error(y_test, y_pred)\n",
    "        rmse = mse ** 0.5\n",
    "        r2 = r2_score(y_test, y_pred)\n",
    "\n",
    "        print(f\"Mean Squared Error: {mse}\")\n",
    "        print(f\"Root Mean Squared Error: {rmse}\")\n",
    "        print(f\"R2 Score: {r2}\")"
   ]
  },
  {
   "cell_type": "markdown",
   "metadata": {},
   "source": [
    "Objectif :\n",
    "\n",
    "Mettre en place un modèle de Random Forest pour prédire la survie des passagers du Titanic."
   ]
  },
  {
   "cell_type": "code",
   "execution_count": 196,
   "metadata": {},
   "outputs": [],
   "source": [
    "# Charger les données\n",
    "df = pd.read_csv(\"datasets/titanic.csv\")"
   ]
  },
  {
   "cell_type": "markdown",
   "metadata": {},
   "source": [
    "Nettoyage des données :\n",
    "\n",
    "        Vérifiez s'il y a des valeurs manquantes dans le dataset et traitez-les en utilisant des stratégies appropriées.\n",
    "        \n",
    "        Convertissez les variables catégorielles en variables numériques si nécessaire."
   ]
  },
  {
   "cell_type": "code",
   "execution_count": 197,
   "metadata": {},
   "outputs": [],
   "source": [
    "# Supprimer les colonnes non nécessaires\n",
    "df = df.drop([\"name\", \"ticket\", \"cabin\", \"boat\", \"body\", \"home.dest\"], axis=1)\n",
    "\n",
    "# Convertir la variable catégorielle 'sex' en numérique\n",
    "le = LabelEncoder()\n",
    "df['sex'] = le.fit_transform(df['sex'])\n",
    "\n",
    "# Gérer les valeurs manquantes\n",
    "imputer = SimpleImputer(strategy=\"mean\")\n",
    "df[['age', 'fare']] = imputer.fit_transform(df[['age', 'fare']])\n",
    "\n",
    "# Convertir la variable catégorielle 'embarked' en numérique\n",
    "df = pd.get_dummies(df, columns=['embarked'], drop_first=True)\n",
    "\n",
    "# Supprimer les lignes avec des valeurs manquantes dans la variable cible 'survived'\n",
    "df = df.dropna(subset=['survived'])\n",
    "\n",
    "# Diviser le dataset en ensembles d'entraînement et de test\n",
    "X = df.drop(\"survived\", axis=1)\n",
    "y = df['survived']\n",
    "X_train, X_test, y_train, y_test = train_test_split(X, y, test_size=0.2, random_state=42)\n",
    "\n",
    "# Supprimer les lignes avec des valeurs manquantes dans y_train\n",
    "y_train = y_train.dropna()"
   ]
  },
  {
   "cell_type": "markdown",
   "metadata": {},
   "source": [
    "Random Forest pour la Classification (Prédiction de Survie) :\n",
    "\n",
    "        Utilisez la bibliothèque scikit-learn en Python.\n",
    "\n",
    "        Divisez le dataset en ensembles d'entraînement (training set) et de test (test set).\n",
    "\n",
    "        Entraînez un modèle de Random Forest pour prédire la survie des passagers.\n",
    "        \n",
    "        Évaluez les performances du modèle en utilisant des métriques appropriées pour la classification (par exemple, l'accuracy)."
   ]
  },
  {
   "cell_type": "code",
   "execution_count": 198,
   "metadata": {},
   "outputs": [
    {
     "name": "stdout",
     "output_type": "stream",
     "text": [
      "Accuracy: 0.7977099236641222\n",
      "Precision: 0.8282828282828283\n",
      "F1 Score: 0.7557603686635945\n",
      "Gini: 0.7220456685499057\n"
     ]
    }
   ],
   "source": [
    "# Entraîner un modèle de Random Forest\n",
    "rf_model = RandomForestClassifier(n_estimators=100, random_state=42)\n",
    "rf_model.fit(X_train, y_train)\n",
    "\n",
    "# Évaluer les performances du modèle\n",
    "evaluate_model(rf_model, X_test, y_test)"
   ]
  },
  {
   "cell_type": "markdown",
   "metadata": {},
   "source": [
    "Bagging ou Pasting :\n",
    "        Comparez les performances du Random Forest avec bagging et du Random Forest avec pasting.\n",
    "\n",
    "        Utilisez différentes valeurs pour le nombre d'estimateurs (arbres) et observez comment cela affecte les performances.\n",
    "        \n",
    "        Choisissez une métrique d'évaluation appropriée pour comparer les deux approches.\n"
   ]
  },
  {
   "cell_type": "code",
   "execution_count": 199,
   "metadata": {},
   "outputs": [
    {
     "name": "stderr",
     "output_type": "stream",
     "text": [
      "/home/utilisateur/.local/lib/python3.10/site-packages/sklearn/ensemble/_base.py:156: FutureWarning: `base_estimator` was renamed to `estimator` in version 1.2 and will be removed in 1.4.\n",
      "  warnings.warn(\n"
     ]
    }
   ],
   "source": [
    "# Bagging avec Random Forest\n",
    "bagging_model = BaggingClassifier(base_estimator=RandomForestClassifier(), n_estimators=10, random_state=42)\n",
    "bagging_model.fit(X_train, y_train)\n",
    "\n",
    "# Évaluer les performances du modèle de bagging\n",
    "print(\"Bagging Model:\")\n",
    "evaluate_model(bagging_model, X_test, y_test)\n",
    "\n",
    "# Pasting avec Random Forest\n",
    "pasting_model = BaggingClassifier(base_estimator=RandomForestClassifier(), n_estimators=10, random_state=42, bootstrap=False)\n",
    "pasting_model.fit(X_train, y_train)\n",
    "\n",
    "# Évaluer les performances du modèle de pasting\n",
    "print(\"Pasting Model:\")\n",
    "evaluate_model(pasting_model, X_test, y_test)"
   ]
  },
  {
   "cell_type": "markdown",
   "metadata": {},
   "source": [
    "Analyse des Résultats :\n",
    "        Analysez et interprétez les résultats obtenus.\n",
    "\n",
    "        Identifiez les hyperparamètres optimaux pour chaque modèle.\n",
    "        \n",
    "        Comparez les métriques pour évaluer l'impact du bagging/pasting sur les performances du Random Forest."
   ]
  },
  {
   "cell_type": "code",
   "execution_count": null,
   "metadata": {},
   "outputs": [
    {
     "data": {
      "image/png": "[encoded data removed]",
      "text/plain": [
       "<Figure size 1200x600 with 1 Axes>"
      ]
     },
     "metadata": {},
     "output_type": "display_data"
    }
   ],
   "source": [
    "# Obtenir les prédictions du modèle\n",
    "y_pred = rf_model.predict(X_test)\n",
    "\n",
    "# Créer un graphique\n",
    "plt.figure(figsize=(12, 6))\n",
    "\n",
    "# Tracer les valeurs réelles avec des marqueurs plus grands\n",
    "plt.scatter(range(len(y_test)), y_test, color='blue', label='Réel', alpha=0.5, s=50)\n",
    "\n",
    "# Tracer les valeurs prédites\n",
    "plt.scatter(range(len(y_test)), y_pred, color='red', label='Prédiction', alpha=0.5)\n",
    "\n",
    "# Ajouter des labels et une légende\n",
    "plt.xlabel('Échantillons')\n",
    "plt.ylabel('Survived')\n",
    "plt.legend()\n",
    "\n",
    "# Afficher le graphique\n",
    "plt.show()"
   ]
  },
  {
   "cell_type": "markdown",
   "metadata": {},
   "source": [
    "Objectif :\n",
    "Mettre en place un modèle de Random Forest pour prédire la survie des passagers du Titanic.\n",
    "\n",
    "Étapes :\n",
    "\n",
    "    Nettoyage des données :\n",
    "        Vérifiez s'il y a des valeurs manquantes dans le dataset et traitez-les en utilisant des stratégies appropriées.\n",
    "        Convertissez les variables catégorielles en variables numériques si nécessaire.\n",
    "\n",
    "    Random Forest pour la Classification (Prédiction de Survie) :\n",
    "        Utilisez la bibliothèque scikit-learn en Python.\n",
    "        Divisez le dataset en ensembles d'entraînement (training set) et de test (test set).\n",
    "        Entraînez un modèle de Random Forest pour prédire la survie des passagers.\n",
    "        Évaluez les performances du modèle en utilisant des métriques appropriées pour la classification (par exemple, l'accuracy).\n",
    "\n",
    "    Bagging ou Pasting :\n",
    "        Comparez les performances du Random Forest avec bagging et du Random Forest avec pasting.\n",
    "        Utilisez différentes valeurs pour le nombre d'estimateurs (arbres) et observez comment cela affecte les performances.\n",
    "        Choisissez une métrique d'évaluation appropriée pour comparer les deux approches.\n",
    "\n",
    "    Analyse des Résultats :\n",
    "        Analysez et interprétez les résultats obtenus.\n",
    "        Identifiez les hyperparamètres optimaux pour chaque modèle.\n",
    "        Comparez les métriques pour évaluer l'impact du bagging/pasting sur les performances du Random Forest.\n",
    "\n",
    "    Questions de Discussion :\n",
    "        Comparez les résultats obtenus avec le Bagging et le Pasting. Quelles observations pouvez-vous faire sur la performance des deux méthodes ?\n",
    "        Expliquez comment l'utilisation de l'échantillonnage avec remplacement (Bagging) peut influencer la performance par rapport à l'utilisation de l'échantillonnage sans remplacement (Pasting).\n",
    "        Comment les métriques F1 et R2 sont-elles utilisées pour évaluer la performance d'un modèle de régression ? Quelles informations fournissent-elles ?\n",
    "\n",
    "N'oubliez pas d'utiliser les hyperparamètres vus précédemment (nombre d'estimateurs, critère de mesure de la pureté, etc.) pour ajuster vos modèles. Bon exercice !"
   ]
  }
 ],
 "metadata": {
  "kernelspec": {
   "display_name": "Python 3",
   "language": "python",
   "name": "python3"
  },
  "language_info": {
   "codemirror_mode": {
    "name": "ipython",
    "version": 3
   },
   "file_extension": ".py",
   "mimetype": "text/x-python",
   "name": "python",
   "nbconvert_exporter": "python",
   "pygments_lexer": "ipython3",
   "version": "3.10.12"
  }
 },
 "nbformat": 4,
 "nbformat_minor": 2
}
